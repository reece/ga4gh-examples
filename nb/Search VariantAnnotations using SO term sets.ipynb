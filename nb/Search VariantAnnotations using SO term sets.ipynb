{
 "cells": [
  {
   "cell_type": "markdown",
   "metadata": {},
   "source": [
    "# Searching GA4GH VariantAnnotations using user-provided SO maps\n",
    "\n",
    "This code demonstrates how to search ga4gh schema using a named maps of SO ids. Possible uses include classififcation of variation by \"impact\", as SnpEff does, or classification variation by region.\n",
    "\n",
    "The results here may be compared with the survey of terms from the same region in [Searching by SO terms](Searching%20by%20SO%20terms.ipynb)"
   ]
  },
  {
   "cell_type": "code",
   "execution_count": 34,
   "metadata": {
    "collapsed": false
   },
   "outputs": [
    {
     "name": "stdout",
     "output_type": "stream",
     "text": [
      "0.1.dev632+ncb43455c1003\n"
     ]
    }
   ],
   "source": [
    "import itertools\n",
    "import pandas as pd\n",
    "from pivottablejs import pivot_ui\n",
    "\n",
    "import ga4gh.client\n",
    "print(ga4gh.__version__)\n",
    "\n",
    "gc = ga4gh.client.HttpClient(\"http://localhost:8000\")"
   ]
  },
  {
   "cell_type": "code",
   "execution_count": 35,
   "metadata": {
    "collapsed": false
   },
   "outputs": [
    {
     "name": "stdout",
     "output_type": "stream",
     "text": [
      "Using first variant annotation set (of 1 total) for variant set YnJjYTE6T1I0Rg\n",
      "vas_id=YnJjYTE6T1I0Rjp2YXJpYW50YW5ub3RhdGlvbnM\n"
     ]
    }
   ],
   "source": [
    "region_constraints = dict(referenceName=\"1\", start=0, end=int(1e10))\n",
    "variant_set_id = 'YnJjYTE6T1I0Rg'\n",
    "variant_annotation_sets = list(gc.searchVariantAnnotationSets(variant_set_id))\n",
    "variant_annotation_set = variant_annotation_sets[0]\n",
    "print(\"Using first variant annotation set (of {n} total) for variant set {vs_id}\\nvas_id={vas.id}\".format(\n",
    "    n=len(variant_annotation_sets), vs_id=variant_set_id, vas=variant_annotation_set))"
   ]
  },
  {
   "cell_type": "code",
   "execution_count": 36,
   "metadata": {
    "collapsed": true
   },
   "outputs": [],
   "source": [
    "def _mk_effect_id_filter(so_ids=[]):\n",
    "    \"\"\"return list of OntologyTerm effect filters for the given list of so ids\n",
    "\n",
    "    >>> print(_mk_effect_id_filter(\"SO:123 SO:456\".split()))\n",
    "    [{'id': 'SO:123'}, {'id': 'SO:456'}]\n",
    "    \"\"\"\n",
    "    return [{\"id\": id} for id in so_ids]"
   ]
  },
  {
   "cell_type": "code",
   "execution_count": 42,
   "metadata": {
    "collapsed": true
   },
   "outputs": [],
   "source": [
    "# poor-man's SO id-to-id map\n",
    "import requests\n",
    "import re\n",
    "id_name_re = re.compile(\"id: (?P<id>SO:\\d+)\\nname: (?P<name>\\S+)\")\n",
    "url = \"https://raw.githubusercontent.com/The-Sequence-Ontology/SO-Ontologies/master/so-xp-simple.obo\"\n",
    "so_name_id_map = {\n",
    "    m.group('name'): m.group('id')\n",
    "    for m in (idid_re.search(s) for s in requests.get(url).text.split(\"\\n\\n\")) if m is not None\n",
    "    }"
   ]
  },
  {
   "cell_type": "markdown",
   "metadata": {},
   "source": [
    "## SO Maps\n",
    "Define two SO maps: \"snpeff\" and \"regional\".\n",
    "\"snpeff\" classifies SO names by predicted impact\n",
    "\"scope\" classifies SO names by scale/scope/region of change "
   ]
  },
  {
   "cell_type": "code",
   "execution_count": 62,
   "metadata": {
    "collapsed": true
   },
   "outputs": [],
   "source": [
    "# Build SnpEff impact map\n",
    "# derived from\n",
    "# https://github.com/pcingola/SnpEff/blob/18ad192f751d2e34595949dda8b25c295c8a9ca1/src/main/java/org/snpeff/snpEffect/EffectType.java\n",
    "# with non-standard SO names removed\n",
    "# This is why we should force SO ids...\n",
    "\n",
    "snpeff_so_map = {\n",
    "    'high': [\n",
    "        \"gene_fusion\",\n",
    "        \"stop_gained\",\n",
    "        \"stop_lost\",\n",
    "        \"start_lost\",\n",
    "    ],\n",
    "\n",
    "    'moderate': [\n",
    "        # all SO names were invalid\n",
    "    ],\n",
    "\n",
    "    \"low\": [\n",
    "        # all SO names were invalid\n",
    "    ],\n",
    "\n",
    "    \"modifiers\": [\n",
    "        \"chromosome\",\n",
    "        \"exon\",\n",
    "        \"genome\",\n",
    "        \"intron\",\n",
    "        \"sequence\",\n",
    "        \"transcript\",\n",
    "    ]\n",
    "}"
   ]
  },
  {
   "cell_type": "code",
   "execution_count": 63,
   "metadata": {
    "collapsed": false
   },
   "outputs": [],
   "source": [
    "scope_so_map = {\n",
    "    \"locus\": [\n",
    "        \"gene_fusion\",\n",
    "        \"upstream_gene_variant\",\n",
    "    ],\n",
    "\n",
    "    \"cds\": [\n",
    "        \"missense_variant\",\n",
    "        \"start_lost\",\n",
    "        \"stop_gained\",\n",
    "        \"stop_lost\",\n",
    "        \"synonymous_variant\",\n",
    "    ],\n",
    "    \n",
    "    \"utr\": [\n",
    "        \"3_prime_UTR_variant\",\n",
    "        \"5_prime_UTR_variant\", \n",
    "    ],\n",
    "   }"
   ]
  },
  {
   "cell_type": "code",
   "execution_count": 64,
   "metadata": {
    "collapsed": true
   },
   "outputs": [],
   "source": [
    "so_maps = {\"snpeff\": snpeff_so_map, \"scope\": scope_so_map}"
   ]
  },
  {
   "cell_type": "code",
   "execution_count": 70,
   "metadata": {
    "collapsed": false
   },
   "outputs": [
    {
     "name": "stdout",
     "output_type": "stream",
     "text": [
      "snpeff     high           1 SO:0001565, SO:0001587, SO:0001578, SO:0002012\n",
      "snpeff     moderate       0 \n",
      "snpeff     low            0 \n",
      "snpeff     modifiers      0 SO:0000340, SO:0000147, SO:0001026, SO:0000188, SO:1000082, SO:0000673\n",
      "scope      utr            0 SO:0001624, SO:0001623\n",
      "scope      cds           24 SO:0001583, SO:0002012, SO:0001587, SO:0001578, SO:0001819\n",
      "scope      locus         63 SO:0001565, SO:0001631\n"
     ]
    }
   ],
   "source": [
    "# search for variants so maps and subsets therein \n",
    "for map_name in so_maps.keys():\n",
    "    for so_set_name in so_maps[map_name].keys():\n",
    "        so_ids = [so_name_id_map[so_name] for so_name in so_maps[map_name][so_set_name]]\n",
    "        efilter = _mk_effect_id_filter(so_ids)\n",
    "        vs = [] if len(efilter)==0 else list(gc.searchVariantAnnotations(variant_annotation_set.id, effects=efilter, **region_constraints))\n",
    "        print(\"{m:10s} {n:10s} {n_vars:5d} {sos}\".format(\n",
    "                m=map_name, n=so_set_name, n_vars=len(vs), sos=\", \".join(so_ids)))\n"
   ]
  },
  {
   "cell_type": "code",
   "execution_count": null,
   "metadata": {
    "collapsed": true
   },
   "outputs": [],
   "source": []
  }
 ],
 "metadata": {
  "kernelspec": {
   "display_name": "Python 2",
   "language": "python",
   "name": "python2"
  },
  "language_info": {
   "codemirror_mode": {
    "name": "ipython",
    "version": 2
   },
   "file_extension": ".py",
   "mimetype": "text/x-python",
   "name": "python",
   "nbconvert_exporter": "python",
   "pygments_lexer": "ipython2",
   "version": "2.7.9"
  }
 },
 "nbformat": 4,
 "nbformat_minor": 0
}
