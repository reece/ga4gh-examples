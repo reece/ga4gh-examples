{
 "cells": [
  {
   "cell_type": "markdown",
   "metadata": {},
   "source": [
    "# Method Overview\n",
    "\n",
    "* **gc.searchDatasets()** -- Returns an iterator over the Datasets on the server.\n",
    "\n",
    "\n",
    "* **gc.searchVariantSets(datasetId)** -- Returns an iterator over the VariantSets fulfilling the specified conditions from the specified Dataset.\n",
    "\n",
    "\n",
    "* **gc.searchCallSets(variantSetId, name=None)** -- Returns an iterator over the CallSets for variantSetId\n",
    "\n",
    "\n",
    "* **gc.searchVariants(variantSetId, start=None, end=None, referenceName=None, callSetIds=None)** -- Returns an iterator over the Variants fulfilling the specified conditions from the specified VariantSet.\n",
    "\n",
    "\n",
    "* **gc.searchVariantAnnotationSets(variantSetId)** -- Returns an iterator over the AnnotationSets fulfilling the specified conditions from the specified Dataset.\n",
    "\n",
    "\n",
    "* **gc.searchVariantAnnotations(variantAnnotationSetId, referenceName=None, referenceId=None, start=None, end=None, featureIds=[], effects=[])** -- Returns an iterator over the Annotations fulfilling the specified conditions from the specified AnnotationSet.\n",
    "\n",
    "----"
   ]
  },
  {
   "cell_type": "code",
   "execution_count": 1,
   "metadata": {
    "collapsed": false
   },
   "outputs": [
    {
     "name": "stdout",
     "output_type": "stream",
     "text": [
      "0.1.dev616+ncbb0131b36d2\n"
     ]
    }
   ],
   "source": [
    "import pandas as pd\n",
    "\n",
    "import ga4gh.client\n",
    "print(ga4gh.__version__)\n",
    "\n",
    "gc = ga4gh.client.HttpClient(\"http://localhost:8000\")\n",
    "region_constraints = dict(referenceName=\"1\", start=0, end=int(1e10))"
   ]
  },
  {
   "cell_type": "markdown",
   "metadata": {},
   "source": [
    "# Fetch Data Sets"
   ]
  },
  {
   "cell_type": "code",
   "execution_count": 2,
   "metadata": {
    "collapsed": false
   },
   "outputs": [
    {
     "data": {
      "text/html": [
       "<div>\n",
       "<table border=\"1\" class=\"dataframe\">\n",
       "  <thead>\n",
       "    <tr style=\"text-align: right;\">\n",
       "      <th></th>\n",
       "      <th>description</th>\n",
       "      <th>id</th>\n",
       "      <th>name</th>\n",
       "    </tr>\n",
       "  </thead>\n",
       "  <tbody>\n",
       "    <tr>\n",
       "      <th>0</th>\n",
       "      <td>None</td>\n",
       "      <td>YnJjYTE</td>\n",
       "      <td>brca1</td>\n",
       "    </tr>\n",
       "  </tbody>\n",
       "</table>\n",
       "</div>"
      ],
      "text/plain": [
       "  description       id   name\n",
       "0        None  YnJjYTE  brca1"
      ]
     },
     "execution_count": 2,
     "metadata": {},
     "output_type": "execute_result"
    }
   ],
   "source": [
    "data_sets = pd.DataFrame(ds.toJsonDict() for ds in gc.searchDatasets())\n",
    "data_sets.head()"
   ]
  },
  {
   "cell_type": "markdown",
   "metadata": {},
   "source": [
    "# Variant Sets for each Data Set (currently only one)"
   ]
  },
  {
   "cell_type": "code",
   "execution_count": 17,
   "metadata": {
    "collapsed": false
   },
   "outputs": [
    {
     "data": {
      "text/html": [
       "<div>\n",
       "<table border=\"1\" class=\"dataframe\">\n",
       "  <thead>\n",
       "    <tr style=\"text-align: right;\">\n",
       "      <th></th>\n",
       "      <th>data_set_id</th>\n",
       "      <th>variant_set_id</th>\n",
       "      <th>variant_set_name</th>\n",
       "    </tr>\n",
       "  </thead>\n",
       "  <tbody>\n",
       "    <tr>\n",
       "      <th>0</th>\n",
       "      <td>YnJjYTE</td>\n",
       "      <td>YnJjYTE6V0FTSDdQ</td>\n",
       "      <td>WASH7P</td>\n",
       "    </tr>\n",
       "    <tr>\n",
       "      <th>1</th>\n",
       "      <td>YnJjYTE</td>\n",
       "      <td>YnJjYTE6MWtnUGhhc2Uz</td>\n",
       "      <td>1kgPhase3</td>\n",
       "    </tr>\n",
       "    <tr>\n",
       "      <th>2</th>\n",
       "      <td>YnJjYTE</td>\n",
       "      <td>YnJjYTE6T1I0Rg</td>\n",
       "      <td>OR4F</td>\n",
       "    </tr>\n",
       "  </tbody>\n",
       "</table>\n",
       "</div>"
      ],
      "text/plain": [
       "  data_set_id        variant_set_id variant_set_name\n",
       "0     YnJjYTE      YnJjYTE6V0FTSDdQ           WASH7P\n",
       "1     YnJjYTE  YnJjYTE6MWtnUGhhc2Uz        1kgPhase3\n",
       "2     YnJjYTE        YnJjYTE6T1I0Rg             OR4F"
      ]
     },
     "execution_count": 17,
     "metadata": {},
     "output_type": "execute_result"
    }
   ],
   "source": [
    "variant_sets = pd.DataFrame([\n",
    "    {'data_set_id': ds.id,\n",
    "     'variant_set_id': vs.id,\n",
    "     'variant_set_name': vs.name}\n",
    "    for ds in gc.searchDatasets()\n",
    "    for vs in gc.searchVariantSets(ds.id)\n",
    "    ])\n",
    "variant_sets.head()"
   ]
  },
  {
   "cell_type": "markdown",
   "metadata": {
    "collapsed": true
   },
   "source": [
    "# Call Sets (by variant set)"
   ]
  },
  {
   "cell_type": "code",
   "execution_count": 12,
   "metadata": {
    "collapsed": false
   },
   "outputs": [
    {
     "data": {
      "text/html": [
       "<div>\n",
       "<table border=\"1\" class=\"dataframe\">\n",
       "  <thead>\n",
       "    <tr style=\"text-align: right;\">\n",
       "      <th></th>\n",
       "      <th>call_set_id</th>\n",
       "      <th>call_set_name</th>\n",
       "      <th>data_set_id</th>\n",
       "      <th>variant_set_id</th>\n",
       "      <th>variant_set_name</th>\n",
       "    </tr>\n",
       "  </thead>\n",
       "  <tbody>\n",
       "    <tr>\n",
       "      <th>0</th>\n",
       "      <td>YnJjYTE6MWtnUGhhc2UzOkhHMDAwOTY</td>\n",
       "      <td>HG00096</td>\n",
       "      <td>YnJjYTE</td>\n",
       "      <td>YnJjYTE6MWtnUGhhc2Uz</td>\n",
       "      <td>1kgPhase3</td>\n",
       "    </tr>\n",
       "    <tr>\n",
       "      <th>1</th>\n",
       "      <td>YnJjYTE6MWtnUGhhc2UzOkhHMDAwOTk</td>\n",
       "      <td>HG00099</td>\n",
       "      <td>YnJjYTE</td>\n",
       "      <td>YnJjYTE6MWtnUGhhc2Uz</td>\n",
       "      <td>1kgPhase3</td>\n",
       "    </tr>\n",
       "    <tr>\n",
       "      <th>2</th>\n",
       "      <td>YnJjYTE6MWtnUGhhc2UzOkhHMDAxMDE</td>\n",
       "      <td>HG00101</td>\n",
       "      <td>YnJjYTE</td>\n",
       "      <td>YnJjYTE6MWtnUGhhc2Uz</td>\n",
       "      <td>1kgPhase3</td>\n",
       "    </tr>\n",
       "  </tbody>\n",
       "</table>\n",
       "</div>"
      ],
      "text/plain": [
       "                       call_set_id call_set_name data_set_id  \\\n",
       "0  YnJjYTE6MWtnUGhhc2UzOkhHMDAwOTY       HG00096     YnJjYTE   \n",
       "1  YnJjYTE6MWtnUGhhc2UzOkhHMDAwOTk       HG00099     YnJjYTE   \n",
       "2  YnJjYTE6MWtnUGhhc2UzOkhHMDAxMDE       HG00101     YnJjYTE   \n",
       "\n",
       "         variant_set_id variant_set_name  \n",
       "0  YnJjYTE6MWtnUGhhc2Uz        1kgPhase3  \n",
       "1  YnJjYTE6MWtnUGhhc2Uz        1kgPhase3  \n",
       "2  YnJjYTE6MWtnUGhhc2Uz        1kgPhase3  "
      ]
     },
     "execution_count": 12,
     "metadata": {},
     "output_type": "execute_result"
    }
   ],
   "source": [
    "call_sets = pd.DataFrame([\n",
    "    {\n",
    "     'data_set_id': ds.id,\n",
    "     'variant_set_id': vs.id,\n",
    "     'variant_set_name': vs.name,\n",
    "     'call_set_id': cs.id,\n",
    "     'call_set_name': cs.name,\n",
    "    }\n",
    "    for ds in gc.searchDatasets()\n",
    "    for vs in gc.searchVariantSets(ds.id)\n",
    "    for cs in gc.searchCallSets(vs.id)\n",
    "    ])\n",
    "call_sets.head()"
   ]
  },
  {
   "cell_type": "markdown",
   "metadata": {},
   "source": [
    "# Variant Annotation Sets (by variant set)"
   ]
  },
  {
   "cell_type": "code",
   "execution_count": 18,
   "metadata": {
    "collapsed": false
   },
   "outputs": [
    {
     "data": {
      "text/html": [
       "<div>\n",
       "<table border=\"1\" class=\"dataframe\">\n",
       "  <thead>\n",
       "    <tr style=\"text-align: right;\">\n",
       "      <th></th>\n",
       "      <th>data_set_id</th>\n",
       "      <th>variant_annotation_set_id</th>\n",
       "      <th>variant_annotation_set_name</th>\n",
       "      <th>variant_set_id</th>\n",
       "      <th>variant_set_name</th>\n",
       "    </tr>\n",
       "  </thead>\n",
       "  <tbody>\n",
       "    <tr>\n",
       "      <th>0</th>\n",
       "      <td>YnJjYTE</td>\n",
       "      <td>YnJjYTE6V0FTSDdQOnZhcmlhbnRhbm5vdGF0aW9ucw</td>\n",
       "      <td>WASH7P</td>\n",
       "      <td>YnJjYTE6V0FTSDdQ</td>\n",
       "      <td>WASH7P</td>\n",
       "    </tr>\n",
       "    <tr>\n",
       "      <th>1</th>\n",
       "      <td>YnJjYTE</td>\n",
       "      <td>YnJjYTE6T1I0Rjp2YXJpYW50YW5ub3RhdGlvbnM</td>\n",
       "      <td>OR4F</td>\n",
       "      <td>YnJjYTE6T1I0Rg</td>\n",
       "      <td>OR4F</td>\n",
       "    </tr>\n",
       "  </tbody>\n",
       "</table>\n",
       "</div>"
      ],
      "text/plain": [
       "  data_set_id                   variant_annotation_set_id  \\\n",
       "0     YnJjYTE  YnJjYTE6V0FTSDdQOnZhcmlhbnRhbm5vdGF0aW9ucw   \n",
       "1     YnJjYTE     YnJjYTE6T1I0Rjp2YXJpYW50YW5ub3RhdGlvbnM   \n",
       "\n",
       "  variant_annotation_set_name    variant_set_id variant_set_name  \n",
       "0                      WASH7P  YnJjYTE6V0FTSDdQ           WASH7P  \n",
       "1                        OR4F    YnJjYTE6T1I0Rg             OR4F  "
      ]
     },
     "execution_count": 18,
     "metadata": {},
     "output_type": "execute_result"
    }
   ],
   "source": [
    "call_sets = pd.DataFrame([\n",
    "    {\n",
    "     'data_set_id': ds.id,\n",
    "     'variant_set_id': vs.id,\n",
    "     'variant_set_name': vs.name,\n",
    "     'variant_annotation_set_id': vas.id,\n",
    "     'variant_annotation_set_name': vas.name,\n",
    "    }\n",
    "    for ds in gc.searchDatasets()\n",
    "    for vs in gc.searchVariantSets(ds.id)\n",
    "    for vas in gc.searchVariantAnnotationSets(vs.id)\n",
    "    ])\n",
    "call_sets.head()"
   ]
  },
  {
   "cell_type": "markdown",
   "metadata": {},
   "source": [
    "# Variant Annotations (by variant set and region)"
   ]
  },
  {
   "cell_type": "code",
   "execution_count": 20,
   "metadata": {
    "collapsed": false
   },
   "outputs": [
    {
     "data": {
      "text/html": [
       "<div>\n",
       "<table border=\"1\" class=\"dataframe\">\n",
       "  <thead>\n",
       "    <tr style=\"text-align: right;\">\n",
       "      <th></th>\n",
       "      <th>data_set_id</th>\n",
       "      <th>n_annotation_sets</th>\n",
       "      <th>n_annotations</th>\n",
       "      <th>n_callsets</th>\n",
       "      <th>n_variants</th>\n",
       "      <th>variant_set_id</th>\n",
       "      <th>variant_set_name</th>\n",
       "    </tr>\n",
       "  </thead>\n",
       "  <tbody>\n",
       "    <tr>\n",
       "      <th>0</th>\n",
       "      <td>YnJjYTE</td>\n",
       "      <td>1</td>\n",
       "      <td>116</td>\n",
       "      <td>0</td>\n",
       "      <td>116</td>\n",
       "      <td>YnJjYTE6V0FTSDdQ</td>\n",
       "      <td>WASH7P</td>\n",
       "    </tr>\n",
       "    <tr>\n",
       "      <th>1</th>\n",
       "      <td>YnJjYTE</td>\n",
       "      <td>1</td>\n",
       "      <td>840</td>\n",
       "      <td>0</td>\n",
       "      <td>840</td>\n",
       "      <td>YnJjYTE6T1I0Rg</td>\n",
       "      <td>OR4F</td>\n",
       "    </tr>\n",
       "  </tbody>\n",
       "</table>\n",
       "</div>"
      ],
      "text/plain": [
       "  data_set_id  n_annotation_sets  n_annotations  n_callsets  n_variants  \\\n",
       "0     YnJjYTE                  1            116           0         116   \n",
       "1     YnJjYTE                  1            840           0         840   \n",
       "\n",
       "     variant_set_id variant_set_name  \n",
       "0  YnJjYTE6V0FTSDdQ           WASH7P  \n",
       "1    YnJjYTE6T1I0Rg             OR4F  "
      ]
     },
     "execution_count": 20,
     "metadata": {},
     "output_type": "execute_result"
    }
   ],
   "source": [
    "call_sets = pd.DataFrame([\n",
    "    {\n",
    "     'data_set_id': ds.id,\n",
    "     'variant_set_id': vs.id,\n",
    "     'variant_set_name': vs.name,\n",
    "     'n_callsets': sum(w for _ in gc.searchCallSets(vs.id)),\n",
    "     'n_variants': sum(1 for _ in gc.searchVariants(vs.id, **region_constraints)),\n",
    "     'n_annotation_sets': sum(1 for _ in gc.searchVariantAnnotationSets(vs.id)),\n",
    "     'n_annotations': sum(1\n",
    "                          for vas in gc.searchVariantAnnotationSets(vs.id)\n",
    "                          for _ in gc.searchVariantAnnotations(vas.id, **region_constraints)\n",
    "                         ),           \n",
    "    }\n",
    "    for ds in gc.searchDatasets()\n",
    "    for vs in gc.searchVariantSets(ds.id)\n",
    "    for vas in gc.searchVariantAnnotationSets(vs.id)\n",
    "    ])\n",
    "call_sets.head()"
   ]
  },
  {
   "cell_type": "code",
   "execution_count": null,
   "metadata": {
    "collapsed": true
   },
   "outputs": [],
   "source": []
  }
 ],
 "metadata": {
  "kernelspec": {
   "display_name": "Python 2",
   "language": "python",
   "name": "python2"
  },
  "language_info": {
   "codemirror_mode": {
    "name": "ipython",
    "version": 2
   },
   "file_extension": ".py",
   "mimetype": "text/x-python",
   "name": "python",
   "nbconvert_exporter": "python",
   "pygments_lexer": "ipython2",
   "version": "2.7.10"
  }
 },
 "nbformat": 4,
 "nbformat_minor": 0
}
