{
 "cells": [
  {
   "cell_type": "code",
   "execution_count": 11,
   "metadata": {
    "collapsed": false
   },
   "outputs": [
    {
     "name": "stdout",
     "output_type": "stream",
     "text": [
      "0.1.dev616+ncbb0131b36d2\n"
     ]
    }
   ],
   "source": [
    "import itertools\n",
    "import pandas as pd\n",
    "from pivottablejs import pivot_ui\n",
    "\n",
    "import ga4gh.client\n",
    "print(ga4gh.__version__)\n",
    "\n",
    "gc = ga4gh.client.HttpClient(\"http://localhost:8000\")"
   ]
  },
  {
   "cell_type": "code",
   "execution_count": 33,
   "metadata": {
    "collapsed": false
   },
   "outputs": [],
   "source": [
    "region_constraints = dict(referenceName=\"1\", start=0, end=int(1e10))\n",
    "variant_set_id = 'YnJjYTE6T1I0Rg'\n",
    "variant_annotation_set = gc.searchVariantAnnotationSets(variant_set_id).next()\n",
    "variant_annotations = list(gc.searchVariantAnnotations(variant_annotation_set.id, **region_constraints))"
   ]
  },
  {
   "cell_type": "code",
   "execution_count": 97,
   "metadata": {
    "collapsed": false
   },
   "outputs": [
    {
     "data": {
      "text/html": [
       "<div>\n",
       "<table border=\"1\" class=\"dataframe\">\n",
       "  <thead>\n",
       "    <tr style=\"text-align: right;\">\n",
       "      <th></th>\n",
       "      <th>so_terms</th>\n",
       "      <th>variant_annotation_id</th>\n",
       "    </tr>\n",
       "  </thead>\n",
       "  <tbody>\n",
       "    <tr>\n",
       "      <th>0</th>\n",
       "      <td>SO:0000605:intergenic_region</td>\n",
       "      <td>YnJjYTE6T1I0Rjp2YXJpYW50YW5ub3RhdGlvbnM6MTo0Nj...</td>\n",
       "    </tr>\n",
       "    <tr>\n",
       "      <th>1</th>\n",
       "      <td>SO:0000605:intergenic_region</td>\n",
       "      <td>YnJjYTE6T1I0Rjp2YXJpYW50YW5ub3RhdGlvbnM6MTo0Nj...</td>\n",
       "    </tr>\n",
       "    <tr>\n",
       "      <th>2</th>\n",
       "      <td>SO:0000605:intergenic_region</td>\n",
       "      <td>YnJjYTE6T1I0Rjp2YXJpYW50YW5ub3RhdGlvbnM6MTo0Nj...</td>\n",
       "    </tr>\n",
       "    <tr>\n",
       "      <th>3</th>\n",
       "      <td>SO:0000605:intergenic_region</td>\n",
       "      <td>YnJjYTE6T1I0Rjp2YXJpYW50YW5ub3RhdGlvbnM6MTo0Nj...</td>\n",
       "    </tr>\n",
       "    <tr>\n",
       "      <th>4</th>\n",
       "      <td>SO:0000605:intergenic_region</td>\n",
       "      <td>YnJjYTE6T1I0Rjp2YXJpYW50YW5ub3RhdGlvbnM6MTo0Nj...</td>\n",
       "    </tr>\n",
       "  </tbody>\n",
       "</table>\n",
       "</div>"
      ],
      "text/plain": [
       "                       so_terms  \\\n",
       "0  SO:0000605:intergenic_region   \n",
       "1  SO:0000605:intergenic_region   \n",
       "2  SO:0000605:intergenic_region   \n",
       "3  SO:0000605:intergenic_region   \n",
       "4  SO:0000605:intergenic_region   \n",
       "\n",
       "                               variant_annotation_id  \n",
       "0  YnJjYTE6T1I0Rjp2YXJpYW50YW5ub3RhdGlvbnM6MTo0Nj...  \n",
       "1  YnJjYTE6T1I0Rjp2YXJpYW50YW5ub3RhdGlvbnM6MTo0Nj...  \n",
       "2  YnJjYTE6T1I0Rjp2YXJpYW50YW5ub3RhdGlvbnM6MTo0Nj...  \n",
       "3  YnJjYTE6T1I0Rjp2YXJpYW50YW5ub3RhdGlvbnM6MTo0Nj...  \n",
       "4  YnJjYTE6T1I0Rjp2YXJpYW50YW5ub3RhdGlvbnM6MTo0Nj...  "
      ]
     },
     "execution_count": 97,
     "metadata": {},
     "output_type": "execute_result"
    }
   ],
   "source": [
    "# list of <set(SO ids), variant_ids>\n",
    "soset_variant = ({'so_terms': \";\".join(sorted(set(\"{ef.id}:{ef.term}\".format(ef=ef)\n",
    "                                         for te in va.transcriptEffects for ef in te.effects))),\n",
    "                  'variant_annotation_id': va.id}\n",
    "                  for va in variant_annotations)\n",
    "soset_variant_df = pd.DataFrame(soset_variant)\n",
    "soset_variant_df.head()"
   ]
  },
  {
   "cell_type": "code",
   "execution_count": 98,
   "metadata": {
    "collapsed": false,
    "scrolled": true
   },
   "outputs": [
    {
     "data": {
      "text/html": [
       "\n",
       "        <iframe\n",
       "            width=\"100%\"\n",
       "            height=\"500\"\n",
       "            src=\"pivottablejs.html\"\n",
       "            frameborder=\"0\"\n",
       "            allowfullscreen\n",
       "        ></iframe>\n",
       "        "
      ],
      "text/plain": [
       "<IPython.lib.display.IFrame at 0x7f05a1cbc550>"
      ]
     },
     "execution_count": 98,
     "metadata": {},
     "output_type": "execute_result"
    }
   ],
   "source": [
    "# 1) Select Bar Chart from Table menu; 2) drag-drop so_terms to left column under count\n",
    "pivot_ui(soset_variant_df)"
   ]
  },
  {
   "cell_type": "code",
   "execution_count": 99,
   "metadata": {
    "collapsed": false
   },
   "outputs": [
    {
     "data": {
      "text/plain": [
       "so_terms\n",
       "SO:0000605:intergenic_region                                       697\n",
       "SO:0000605:intergenic_region;SO:0001631:upstream_gene_variant       63\n",
       "SO:0000605:intergenic_region;SO:0001632:downstream_gene_variant     56\n",
       "SO:0001583:missense_variant                                         16\n",
       "SO:0001587:stop_gained                                               1\n",
       "SO:0001819:synonymous_variant                                        7\n",
       "Name: variant_annotation_id, dtype: int64"
      ]
     },
     "execution_count": 99,
     "metadata": {},
     "output_type": "execute_result"
    }
   ],
   "source": [
    "soset_variant_df.groupby([\"so_terms\"])[\"variant_annotation_id\"].nunique()"
   ]
  },
  {
   "cell_type": "code",
   "execution_count": 123,
   "metadata": {
    "collapsed": false
   },
   "outputs": [
    {
     "name": "stdout",
     "output_type": "stream",
     "text": [
      "0 0  697 697    0   0  697  697  *\n",
      "0 1  697  63  697  63    0  760  \n",
      "0 2  697  16  697  16    0  713  \n",
      "0 3  697   7  697   7    0  704  \n",
      "0 4  697   1  697   1    0  698  \n",
      "0 5  697  56  697  56    0  753  \n",
      "1 1   63  63    0   0   63   63  *\n",
      "1 2   63  16   63  16    0   79  \n",
      "1 3   63   7   63   7    0   70  \n",
      "1 4   63   1   63   1    0   64  \n",
      "1 5   63  56   63  56    0  119  \n",
      "2 2   16  16    0   0   16   16  *\n",
      "2 3   16   7   16   7    0   23  \n",
      "2 4   16   1   16   1    0   17  \n",
      "2 5   16  56   16  56    0   72  \n",
      "3 3    7   7    0   0    7    7  *\n",
      "3 4    7   1    7   1    0    8  \n",
      "3 5    7  56    7  56    0   63  \n",
      "4 4    1   1    0   0    1    1  *\n",
      "4 5    1  56    1  56    0   57  \n",
      "5 5   56  56    0   0   56   56  *\n"
     ]
    }
   ],
   "source": [
    "# ensure that variant annotation ids are unique in all sets\n",
    "def _vids(df,sit):\n",
    "    return set(df[df[\"so_terms\"] == sit][\"variant_annotation_id\"])\n",
    "\n",
    "terms = soset_variant_df[\"so_terms\"].unique()\n",
    "for ti1 in range(len(terms)):\n",
    "    vids1 = _vids(soset_variant_df,terms[ti1])\n",
    "    for ti2 in range(ti1,len(terms)):\n",
    "        vids2 = _vids(soset_variant_df,terms[ti2])\n",
    "        print(\"{ti1} {ti2}  {l1:3d} {l2:3d}  {lo1:3d} {lo2:3d}  {li:3d}  {lu:3d}  {s}\".format(\n",
    "                ti1=ti1, ti2=ti2, l1=len(vids1), l2=len(vids2),\n",
    "                lo1=len(vids1-vids2), lo2=len(vids2-vids1),\n",
    "                li=len(vids1 & vids2), lu=len(vids1 | vids2),\n",
    "                s=\"*\" if len(vids1 & vids2) > 0 else ''\n",
    "            ))"
   ]
  },
  {
   "cell_type": "markdown",
   "metadata": {},
   "source": [
    "----\n",
    "\n",
    "# Experiment with searching for SO ids (or terms)\n",
    "\n",
    "Trying to answer two questions:\n",
    "\n",
    "1. Does searching for a single id match variant annotations associated with multiple ids? For example, does searching with {SO:1} match only {SO:1}, or does it also match {SO:1, SO:2}\n",
    "1. Does searching with multiple effects imply conjunction (logical AND) or inclusive disjunction (logical OR)? For example, does searching with {SO:1, SO:2} match {SO:1} (OR) or only {SO:1, SO:2}? \n",
    "\n",
    "Using the data above, we can search for single and multiple terms.\n",
    "\n",
    "We'll be using this function:\n",
    "\n",
    "    Signature: gc.searchVariantAnnotations(variantAnnotationSetId, referenceName=None, referenceId=None, \n",
    "                                           start=None, end=None, featureIds=[], effects=[])\n",
    "    Docstring:\n",
    "    Returns an iterator over the Annotations fulfilling the specified conditions from the specified\n",
    "    AnnotationSet.\n",
    "\n",
    "    The JSON string for an effect term must be specified on the command line : \n",
    "    `--effects '{\"term\": \"exon_variant\"}'`."
   ]
  },
  {
   "cell_type": "code",
   "execution_count": 81,
   "metadata": {
    "collapsed": false
   },
   "outputs": [],
   "source": [
    "def _mk_effect_filter(so_ids=[]):\n",
    "    \"\"\"return list of so_id effect filters for the given list of so_ids\n",
    "\n",
    "    >>> print(_mk_effect_filter(so_ids=\"SO:1 SO:2 SO:3\".split()))\n",
    "    ['{\"id\":\"SO:1\"}', '{\"id\":\"SO:2\"}', '{\"id\":\"SO:3\"}']\n",
    "    \"\"\"\n",
    "    return ['{{\"id\":\"{so_id}\"}}'.format(so_id=so_id) for so_id in so_ids]\n",
    "\n",
    "def _fetch_variant_annotations(gc, so_ids=[], **args):\n",
    "    return gc.searchVariantAnnotations(variant_annotation_set.id,\n",
    "                                       effects=_mk_effect_filter(so_ids),\n",
    "                                       **args)"
   ]
  },
  {
   "cell_type": "code",
   "execution_count": 126,
   "metadata": {
    "collapsed": false
   },
   "outputs": [
    {
     "data": {
      "text/plain": [
       "[('SO:0001819', 7),\n",
       " ('SO:0001632', 56),\n",
       " ('SO:0000605', 697),\n",
       " ('SO:0000605 SO:0001632', 697),\n",
       " ('SO:9999999', 0),\n",
       " ('SO:0000605 SO:999999', 697)]"
      ]
     },
     "execution_count": 126,
     "metadata": {},
     "output_type": "execute_result"
    }
   ],
   "source": [
    "# expected:\n",
    "#so_terms\n",
    "#SO:0000605:intergenic_region                                       697\n",
    "#SO:0000605:intergenic_region;SO:0001631:upstream_gene_variant       63\n",
    "#SO:0000605:intergenic_region;SO:0001632:downstream_gene_variant     56\n",
    "#SO:0001583:missense_variant                                         16\n",
    "#SO:0001587:stop_gained                                               1\n",
    "#SO:0001819:synonymous_variant                                        7\n",
    "        \n",
    "[(so_set,\n",
    "  len(list(_fetch_variant_annotations(gc, so_ids=so_set.split(), **region_constraints))))\n",
    " for so_set in [\"SO:0001819\", \"SO:0001632\", \"SO:0000605\", \n",
    "                \"SO:0000605 SO:0001632\",\n",
    "                \"SO:9999999\", \"SO:0000605 SO:999999\"]\n",
    " ]"
   ]
  },
  {
   "cell_type": "markdown",
   "metadata": {},
   "source": [
    "Conclusion: Something's fishy.\n",
    "\n",
    "SO:0001819 returns 7, which is correct. That SO doesn't occur anywhere else.\n",
    "\n",
    "SO:0001632 returns 56, which suggests that it's finding the VAs in which it is one of two terms. That is, the filtering appears to use subsets\n",
    "\n",
    "SO:0000605 returns 697, which suggests that it is finding only those VAs for which it is the sole term, and that it's not finding the VAs for which it is one of two terms. This appears to contradict the behavior for SO:0001632. One explanation is that searching is based on exact filtering first, and on subset if that fails.\n",
    "\n",
    "SO:0000605,SO:0001632 returns 697 also, which excludes VAs for which SO:0000605 is a common term. This suggests that matching uses conjunction (AND).\n",
    "\n",
    "SO:9999999 failes to find any hits, as expected.\n",
    "\n",
    "SO:0000605,SO:999999 finds 697 hits. I can make up complicated guess as to why, but I won't here."
   ]
  },
  {
   "cell_type": "code",
   "execution_count": null,
   "metadata": {
    "collapsed": true
   },
   "outputs": [],
   "source": []
  }
 ],
 "metadata": {
  "kernelspec": {
   "display_name": "Python 2",
   "language": "python",
   "name": "python2"
  },
  "language_info": {
   "codemirror_mode": {
    "name": "ipython",
    "version": 2
   },
   "file_extension": ".py",
   "mimetype": "text/x-python",
   "name": "python",
   "nbconvert_exporter": "python",
   "pygments_lexer": "ipython2",
   "version": "2.7.10"
  }
 },
 "nbformat": 4,
 "nbformat_minor": 0
}
