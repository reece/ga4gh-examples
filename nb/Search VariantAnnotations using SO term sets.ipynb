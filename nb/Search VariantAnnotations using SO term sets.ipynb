{
 "cells": [
  {
   "cell_type": "markdown",
   "metadata": {},
   "source": [
    "# Search VariantAnnotations using SO term sets\n",
    "\n",
    "This code demonstrates how to use named sets of SO terms to annotate variants or search for variants.  Possible uses include classififcation of variation by \"impact\" (e.g., à la SnpEff) and classification variation by region.\n",
    "\n",
    "**Important definitions:** An SO \"term\" refers to a concept. The proper primary key for a SO term is a SO \"id\" (e.g., SO:0001147). Each term also has a \"name\" (natural_variant_site), \"definition\" (\"Describes the natural sequence variants due to polymorphisms...\"), and other fields. Names may change (and have changed) for a given SO id; therefore, developers should use SO ids internally.\n",
    "\n",
    "This notebook generates SO maps that consists of a set of annotation labels (as map keys) mapped to a set of SO terms. Each map is named. For example, a SnpEff map might have labels \"high\", \"moderate\", and \"low\", with each label mapping to a set of SO terms.\n",
    "\n",
    "The results here may be compared with the survey of terms from the same region in [Exploring SO terms](Exploring%20SO%20terms.ipynb)"
   ]
  },
  {
   "cell_type": "markdown",
   "metadata": {},
   "source": [
    "----"
   ]
  },
  {
   "cell_type": "code",
   "execution_count": 1,
   "metadata": {
    "collapsed": false
   },
   "outputs": [
    {
     "name": "stdout",
     "output_type": "stream",
     "text": [
      "0.1.dev632+ncb43455c1003\n"
     ]
    }
   ],
   "source": [
    "import itertools\n",
    "import pprint\n",
    "import re\n",
    "\n",
    "from IPython.display import HTML, display\n",
    "\n",
    "import ga4gh.client\n",
    "import prettytable\n",
    "import requests\n",
    "\n",
    "print(ga4gh.__version__)"
   ]
  },
  {
   "cell_type": "code",
   "execution_count": 2,
   "metadata": {
    "collapsed": false
   },
   "outputs": [
    {
     "name": "stdout",
     "output_type": "stream",
     "text": [
      "Using first variant annotation set (of 1 total) for variant set YnJjYTE6T1I0Rg\n",
      "vas_id=YnJjYTE6T1I0Rjp2YXJpYW50YW5ub3RhdGlvbnM\n"
     ]
    }
   ],
   "source": [
    "gc = ga4gh.client.HttpClient(\"http://localhost:8000\")\n",
    "\n",
    "region_constraints = dict(referenceName=\"1\", start=0, end=int(1e10))\n",
    "variant_set_id = 'YnJjYTE6T1I0Rg'\n",
    "variant_annotation_sets = list(gc.searchVariantAnnotationSets(variant_set_id))\n",
    "variant_annotation_set = variant_annotation_sets[0]\n",
    "print(\"Using first variant annotation set (of {n} total) for variant set {vs_id}\\nvas_id={vas.id}\".format(\n",
    "    n=len(variant_annotation_sets), vs_id=variant_set_id, vas=variant_annotation_set))"
   ]
  },
  {
   "cell_type": "code",
   "execution_count": 3,
   "metadata": {
    "collapsed": false
   },
   "outputs": [],
   "source": [
    "# poor-man's SO name-to-id map\n",
    "# so_name_id_map will look like this:\n",
    "# {u'natural_variant_site': u'SO:0001147',\n",
    "#  u'polypeptide_zinc_ion_contact_site': u'SO:0001103',\n",
    "#  u'methylated_adenine': u'SO:0000161',\n",
    "#  ...\n",
    "id_name_re = re.compile(\"id: (?P<id>SO:\\d+)\\nname: (?P<name>\\S+)\")\n",
    "url = \"https://raw.githubusercontent.com/The-Sequence-Ontology/SO-Ontologies/master/so-xp-simple.obo\"\n",
    "so_name_id_map = {\n",
    "    m.group('name'): m.group('id')\n",
    "    for m in (id_name_re.search(s) for s in requests.get(url).text.split(\"\\n\\n\")) if m is not None\n",
    "    }"
   ]
  },
  {
   "cell_type": "code",
   "execution_count": 4,
   "metadata": {
    "collapsed": false
   },
   "outputs": [],
   "source": [
    "def mk_effect_id_filter(so_ids=[]):\n",
    "    \"\"\"return list of OntologyTerm effect filters for the given list of so ids\n",
    "\n",
    "    >>> print(_mk_effect_id_filter(\"SO:123 SO:456\".split()))\n",
    "    [{'id': 'SO:123'}, {'id': 'SO:456'}]\n",
    "    \"\"\"\n",
    "    return [{\"id\": id} for id in so_ids]\n",
    "\n",
    "def remap_with_so_ids(so_name_map):\n",
    "    \"\"\"For a map of label => [so names], return a map of label => [so ids]\"\"\"\n",
    "    def _map1(n):\n",
    "        try:\n",
    "            return so_name_id_map[n]\n",
    "        except KeyError:\n",
    "            print(\"SO term name '{n}' is not (currently) valid\".format(n=n))\n",
    "    return {label: filter(None, (_map1(n) for n in names)) for label, names in so_name_map.items()}"
   ]
  },
  {
   "cell_type": "markdown",
   "metadata": {},
   "source": [
    "## SnpEff map\n",
    "classifies SO terms by predicted impact\n",
    "\n",
    "derived from\n",
    "https://github.com/pcingola/SnpEff/blob/18ad192f751d2e34595949dda8b25c295c8a9ca1/src/main/java/org/snpeff/snpEffect/EffectType.java"
   ]
  },
  {
   "cell_type": "code",
   "execution_count": 5,
   "metadata": {
    "collapsed": true
   },
   "outputs": [],
   "source": [
    "snpeff_so_name_map = {\n",
    "    \"high\": [\n",
    "        \"chromosome_large_deletion\",\n",
    "        \"chromosome_large_inversion\",\n",
    "        \"chromosome_large_duplication\",\n",
    "        \"gene_rearrangement\",\n",
    "        \"gene_deleted\",\n",
    "        \"gene_fusion\",\n",
    "        \"gene_fusion_reverese\",\n",
    "        \"transcript_deleted\",\n",
    "        \"exon_deleted\",\n",
    "        \"exon_deleted_partial\",\n",
    "        \"exon_duplication\",\n",
    "        \"exon_duplication_partial\",\n",
    "        \"exon_inversion\",\n",
    "        \"exon_inversion_partial\",\n",
    "        \"frame_shift\",\n",
    "        \"stop_gained\",\n",
    "        \"stop_lost\",\n",
    "        \"start_lost\",\n",
    "        \"splice_site_acceptor\",\n",
    "        \"splice_site_donor\",\n",
    "        \"rare_amino_acid\",\n",
    "        \"protein_protein_interaction_locus\",\n",
    "        \"protein_structural_interaction_locus\",\n",
    "    ], \n",
    "\n",
    "    \"moderate\": [\n",
    "        \"non_synonymous_coding\",\n",
    "        \"codon_insertion\",\n",
    "        \"codon_change_plus_codon_insertion\",\n",
    "        \"codon_deletion\",\n",
    "        \"codon_change_plus_codon_deletion\",\n",
    "        \"utr_5_deleted\",\n",
    "        \"utr_3_deleted\",\n",
    "        \"splice_site_branch_u12\",\n",
    "        \"splice_site_region\",\n",
    "        \"splice_site_branch\",\n",
    "        \"non_synonymous_stop\",\n",
    "        \"non_synonymous_start\",\n",
    "        \"synonymous_coding\",\n",
    "        \"synonymous_start\",\n",
    "        \"synonymous_stop\",\n",
    "        \"codon_change\",\n",
    "    ], \n",
    "\n",
    "    \"low\": [\n",
    "        \"gene_inversion\",\n",
    "        \"gene_duplication\",\n",
    "        \"transcript_duplication\",\n",
    "        \"transcript_inversion\",\n",
    "        \"utr_5_prime\",\n",
    "        \"utr_3_prime\",\n",
    "        \"start_gained\",\n",
    "        \"upstream\",\n",
    "        \"downstream\",\n",
    "        \"motif\",\n",
    "        \"motif_deleted\",\n",
    "        \"regulation\",\n",
    "        \"micro_rna\",\n",
    "    ],\n",
    "\n",
    "    \"modifiers\": [\n",
    "        \"custom\",\n",
    "        \"next_prot\",\n",
    "        \"intron_conserved\",\n",
    "        \"intron\",\n",
    "        \"intragenic\",\n",
    "        \"intergenic_conserved\",\n",
    "        \"intergenic\",\n",
    "        \"cds\",\n",
    "        \"exon\",\n",
    "        \"transcript\",\n",
    "        \"gene\",\n",
    "        \"sequence\",\n",
    "        \"chromosome_elongation\",\n",
    "        \"chromosome\",\n",
    "        \"genome\",\n",
    "        \"none\",\n",
    "    ]\n",
    "}"
   ]
  },
  {
   "cell_type": "code",
   "execution_count": 6,
   "metadata": {
    "collapsed": false
   },
   "outputs": [
    {
     "name": "stdout",
     "output_type": "stream",
     "text": [
      "SO term name 'chromosome_large_deletion' is not (currently) valid\n",
      "SO term name 'chromosome_large_inversion' is not (currently) valid\n",
      "SO term name 'chromosome_large_duplication' is not (currently) valid\n",
      "SO term name 'gene_rearrangement' is not (currently) valid\n",
      "SO term name 'gene_deleted' is not (currently) valid\n",
      "SO term name 'gene_fusion_reverese' is not (currently) valid\n",
      "SO term name 'transcript_deleted' is not (currently) valid\n",
      "SO term name 'exon_deleted' is not (currently) valid\n",
      "SO term name 'exon_deleted_partial' is not (currently) valid\n",
      "SO term name 'exon_duplication' is not (currently) valid\n",
      "SO term name 'exon_duplication_partial' is not (currently) valid\n",
      "SO term name 'exon_inversion' is not (currently) valid\n",
      "SO term name 'exon_inversion_partial' is not (currently) valid\n",
      "SO term name 'frame_shift' is not (currently) valid\n",
      "SO term name 'splice_site_acceptor' is not (currently) valid\n",
      "SO term name 'splice_site_donor' is not (currently) valid\n",
      "SO term name 'rare_amino_acid' is not (currently) valid\n",
      "SO term name 'protein_protein_interaction_locus' is not (currently) valid\n",
      "SO term name 'protein_structural_interaction_locus' is not (currently) valid\n",
      "SO term name 'non_synonymous_coding' is not (currently) valid\n",
      "SO term name 'codon_insertion' is not (currently) valid\n",
      "SO term name 'codon_change_plus_codon_insertion' is not (currently) valid\n",
      "SO term name 'codon_deletion' is not (currently) valid\n",
      "SO term name 'codon_change_plus_codon_deletion' is not (currently) valid\n",
      "SO term name 'utr_5_deleted' is not (currently) valid\n",
      "SO term name 'utr_3_deleted' is not (currently) valid\n",
      "SO term name 'splice_site_branch_u12' is not (currently) valid\n",
      "SO term name 'splice_site_region' is not (currently) valid\n",
      "SO term name 'splice_site_branch' is not (currently) valid\n",
      "SO term name 'non_synonymous_stop' is not (currently) valid\n",
      "SO term name 'non_synonymous_start' is not (currently) valid\n",
      "SO term name 'synonymous_coding' is not (currently) valid\n",
      "SO term name 'synonymous_start' is not (currently) valid\n",
      "SO term name 'synonymous_stop' is not (currently) valid\n",
      "SO term name 'codon_change' is not (currently) valid\n",
      "SO term name 'gene_inversion' is not (currently) valid\n",
      "SO term name 'gene_duplication' is not (currently) valid\n",
      "SO term name 'transcript_duplication' is not (currently) valid\n",
      "SO term name 'transcript_inversion' is not (currently) valid\n",
      "SO term name 'utr_5_prime' is not (currently) valid\n",
      "SO term name 'utr_3_prime' is not (currently) valid\n",
      "SO term name 'start_gained' is not (currently) valid\n",
      "SO term name 'upstream' is not (currently) valid\n",
      "SO term name 'downstream' is not (currently) valid\n",
      "SO term name 'motif' is not (currently) valid\n",
      "SO term name 'motif_deleted' is not (currently) valid\n",
      "SO term name 'regulation' is not (currently) valid\n",
      "SO term name 'micro_rna' is not (currently) valid\n",
      "SO term name 'custom' is not (currently) valid\n",
      "SO term name 'next_prot' is not (currently) valid\n",
      "SO term name 'intron_conserved' is not (currently) valid\n",
      "SO term name 'intragenic' is not (currently) valid\n",
      "SO term name 'intergenic_conserved' is not (currently) valid\n",
      "SO term name 'intergenic' is not (currently) valid\n",
      "SO term name 'cds' is not (currently) valid\n",
      "SO term name 'chromosome_elongation' is not (currently) valid\n",
      "SO term name 'none' is not (currently) valid\n"
     ]
    }
   ],
   "source": [
    "snpeff_so_id_map = remap_with_so_ids(snpeff_so_name_map)"
   ]
  },
  {
   "cell_type": "code",
   "execution_count": 7,
   "metadata": {
    "collapsed": false,
    "scrolled": true
   },
   "outputs": [
    {
     "data": {
      "text/plain": [
       "{'high': [u'SO:0001565', u'SO:0001587', u'SO:0001578', u'SO:0002012'],\n",
       " 'low': [],\n",
       " 'moderate': [],\n",
       " 'modifiers': [u'SO:0000188',\n",
       "  u'SO:0000147',\n",
       "  u'SO:0000673',\n",
       "  u'SO:0000704',\n",
       "  u'SO:1000082',\n",
       "  u'SO:0000340',\n",
       "  u'SO:0001026']}"
      ]
     },
     "execution_count": 7,
     "metadata": {},
     "output_type": "execute_result"
    }
   ],
   "source": [
    "snpeff_so_id_map"
   ]
  },
  {
   "cell_type": "markdown",
   "metadata": {},
   "source": [
    "## Region name map\n",
    "This is really just a contrived example of another kind of SO annotation that someone might find useful."
   ]
  },
  {
   "cell_type": "code",
   "execution_count": 8,
   "metadata": {
    "collapsed": false
   },
   "outputs": [],
   "source": [
    "region_so_name_map = {\n",
    "    \"locus\": [\n",
    "        \"gene_fusion\",\n",
    "        \"upstream_gene_variant\",\n",
    "    ],\n",
    "\n",
    "    \"cds\": [\n",
    "        \"missense_variant\",\n",
    "        \"start_lost\",\n",
    "        \"stop_gained\",\n",
    "        \"stop_lost\",\n",
    "        \"synonymous_variant\",\n",
    "    ],\n",
    "    \n",
    "    # note that utr, upstream, and downstream sets overlap intentionally\n",
    "    \"utr\": [\n",
    "        \"3_prime_UTR_variant\",\n",
    "        \"5_prime_UTR_variant\", \n",
    "    ],\n",
    "    \n",
    "    \"upstream\": [\n",
    "        \"5_prime_UTR_variant\",\n",
    "        \"upstream_gene_variant\",\n",
    "    ],\n",
    "\n",
    "    \"downstream\": [\n",
    "        \"3_prime_UTR_variant\",\n",
    "        \"downstream_gene_variant\",\n",
    "    ],\n",
    "}"
   ]
  },
  {
   "cell_type": "code",
   "execution_count": 9,
   "metadata": {
    "collapsed": false
   },
   "outputs": [],
   "source": [
    "region_so_id_map = remap_with_so_ids(region_so_name_map)"
   ]
  },
  {
   "cell_type": "markdown",
   "metadata": {},
   "source": [
    "# Meta maps\n",
    "so_maps contains both maps"
   ]
  },
  {
   "cell_type": "code",
   "execution_count": 10,
   "metadata": {
    "collapsed": false,
    "scrolled": false
   },
   "outputs": [
    {
     "name": "stdout",
     "output_type": "stream",
     "text": [
      "{'region': {'cds': [u'SO:0001583',\n",
      "                    u'SO:0002012',\n",
      "                    u'SO:0001587',\n",
      "                    u'SO:0001578',\n",
      "                    u'SO:0001819'],\n",
      "            'downstream': [u'SO:0001624', u'SO:0001632'],\n",
      "            'locus': [u'SO:0001565', u'SO:0001631'],\n",
      "            'upstream': [u'SO:0001623', u'SO:0001631'],\n",
      "            'utr': [u'SO:0001624', u'SO:0001623']},\n",
      " 'snpeff': {'high': [u'SO:0001565',\n",
      "                     u'SO:0001587',\n",
      "                     u'SO:0001578',\n",
      "                     u'SO:0002012'],\n",
      "            'low': [],\n",
      "            'moderate': [],\n",
      "            'modifiers': [u'SO:0000188',\n",
      "                          u'SO:0000147',\n",
      "                          u'SO:0000673',\n",
      "                          u'SO:0000704',\n",
      "                          u'SO:1000082',\n",
      "                          u'SO:0000340',\n",
      "                          u'SO:0001026']}}\n"
     ]
    }
   ],
   "source": [
    "so_maps = {\"snpeff\": snpeff_so_id_map, \"region\": region_so_id_map}\n",
    "pprint.pprint(so_maps)"
   ]
  },
  {
   "cell_type": "markdown",
   "metadata": {},
   "source": [
    "# Search for variants by each SO map "
   ]
  },
  {
   "cell_type": "code",
   "execution_count": 11,
   "metadata": {
    "collapsed": false
   },
   "outputs": [
    {
     "data": {
      "text/html": [
       "<table>\n",
       "    <tr>\n",
       "        <th>n_vars</th>\n",
       "        <th>name:label</th>\n",
       "        <th>n_so_ids</th>\n",
       "        <th>so_ids</th>\n",
       "    </tr>\n",
       "    <tr>\n",
       "        <td>1</td>\n",
       "        <td>snpeff:high</td>\n",
       "        <td>4</td>\n",
       "        <td>SO:0001565 SO:0001587 SO:0001578 SO:0002012</td>\n",
       "    </tr>\n",
       "    <tr>\n",
       "        <td>0</td>\n",
       "        <td>snpeff:moderate</td>\n",
       "        <td>0</td>\n",
       "        <td></td>\n",
       "    </tr>\n",
       "    <tr>\n",
       "        <td>0</td>\n",
       "        <td>snpeff:low</td>\n",
       "        <td>0</td>\n",
       "        <td></td>\n",
       "    </tr>\n",
       "    <tr>\n",
       "        <td>0</td>\n",
       "        <td>snpeff:modifiers</td>\n",
       "        <td>7</td>\n",
       "        <td>SO:0000188 SO:0000147 SO:0000673 SO:0000704 SO:1000082 SO:0000340 SO:0001026</td>\n",
       "    </tr>\n",
       "    <tr>\n",
       "        <td>0</td>\n",
       "        <td>region:utr</td>\n",
       "        <td>2</td>\n",
       "        <td>SO:0001624 SO:0001623</td>\n",
       "    </tr>\n",
       "    <tr>\n",
       "        <td>63</td>\n",
       "        <td>region:locus</td>\n",
       "        <td>2</td>\n",
       "        <td>SO:0001565 SO:0001631</td>\n",
       "    </tr>\n",
       "    <tr>\n",
       "        <td>24</td>\n",
       "        <td>region:cds</td>\n",
       "        <td>5</td>\n",
       "        <td>SO:0001583 SO:0002012 SO:0001587 SO:0001578 SO:0001819</td>\n",
       "    </tr>\n",
       "    <tr>\n",
       "        <td>56</td>\n",
       "        <td>region:downstream</td>\n",
       "        <td>2</td>\n",
       "        <td>SO:0001624 SO:0001632</td>\n",
       "    </tr>\n",
       "    <tr>\n",
       "        <td>63</td>\n",
       "        <td>region:upstream</td>\n",
       "        <td>2</td>\n",
       "        <td>SO:0001623 SO:0001631</td>\n",
       "    </tr>\n",
       "</table>"
      ],
      "text/plain": [
       "<IPython.core.display.HTML object>"
      ]
     },
     "metadata": {},
     "output_type": "display_data"
    }
   ],
   "source": [
    "field_names = \"n_vars name:label n_so_ids so_ids\".split()\n",
    "pt = prettytable.PrettyTable(field_names=field_names)\n",
    "\n",
    "for name, so_map in so_maps.items():\n",
    "    for label, so_ids in so_map.items():\n",
    "        vs = []\n",
    "        # Searching with an empty filter means no filtering\n",
    "        # This should be changed: searching should be by inclusion, not lack of exclusion.\n",
    "        if len(so_ids)>0:\n",
    "            efilter = mk_effect_id_filter(so_ids)\n",
    "            vs = list(gc.searchVariantAnnotations(variant_annotation_set.id,\n",
    "                                                  effects=efilter,\n",
    "                                                  **region_constraints))\n",
    "        pt.add_row([\n",
    "            len(vs),\n",
    "            name + \":\" + label,\n",
    "            len(so_ids),\n",
    "            \" \".join(so_ids)\n",
    "            ])\n",
    "\n",
    "display(HTML(pt.get_html_string()))\n"
   ]
  },
  {
   "cell_type": "markdown",
   "metadata": {},
   "source": [
    "# Label variants with SO maps\n",
    "This is essentially the inverse of the above"
   ]
  },
  {
   "cell_type": "code",
   "execution_count": 12,
   "metadata": {
    "collapsed": false
   },
   "outputs": [],
   "source": [
    "# invert the SO map (name: {SO: label})\n",
    "def invert_so_map(so_map):\n",
    "    \"\"\"for a so_map of {label: [so_id]}, return the inverse {so_id: [labels]}.\n",
    "    so_id:label is many:many\n",
    "    \"\"\"\n",
    "    lmap = sorted((so, label) for label, so_ids in so_map.items() for so in so_ids)\n",
    "    return {k: list(sl[1] for sl in sli) for k, sli in itertools.groupby(lmap, key=lambda e: e[0])}\n",
    "\n",
    "def unique_labels_for_so_ids(so_labels_map, so_ids):\n",
    "    \"\"\"given a map of {so: [labels]} and a list of so_ids, return a list of unique labels\"\"\"\n",
    "    uniq_labels = set(itertools.chain.from_iterable(so_labels_map.get(so_id, []) for so_id in so_ids))\n",
    "    return list(uniq_labels)\n",
    "\n",
    "def build_variant_record(v):\n",
    "    so_ids = list(set(eff.id for te in v.transcriptEffects for eff in te.effects))\n",
    "    impacts = unique_labels_for_so_ids(so_labels_maps[\"snpeff\"], so_ids)\n",
    "    regions = unique_labels_for_so_ids(so_labels_maps[\"region\"], so_ids)\n",
    "    return dict(\n",
    "        g = v.transcriptEffects[0].hgvsAnnotation.genomic,\n",
    "        t = v.transcriptEffects[0].hgvsAnnotation.transcript,\n",
    "        p = v.transcriptEffects[0].hgvsAnnotation.protein,\n",
    "        so_ids = \" \".join(so_ids),\n",
    "        impacts = \" \".join(impacts),\n",
    "        regions = \" \".join(regions)\n",
    "        )"
   ]
  },
  {
   "cell_type": "code",
   "execution_count": 13,
   "metadata": {
    "collapsed": false
   },
   "outputs": [
    {
     "name": "stdout",
     "output_type": "stream",
     "text": [
      "{'region': {u'SO:0001565': ['locus'],\n",
      "            u'SO:0001578': ['cds'],\n",
      "            u'SO:0001583': ['cds'],\n",
      "            u'SO:0001587': ['cds'],\n",
      "            u'SO:0001623': ['upstream', 'utr'],\n",
      "            u'SO:0001624': ['downstream', 'utr'],\n",
      "            u'SO:0001631': ['locus', 'upstream'],\n",
      "            u'SO:0001632': ['downstream'],\n",
      "            u'SO:0001819': ['cds'],\n",
      "            u'SO:0002012': ['cds']},\n",
      " 'snpeff': {u'SO:0000147': ['modifiers'],\n",
      "            u'SO:0000188': ['modifiers'],\n",
      "            u'SO:0000340': ['modifiers'],\n",
      "            u'SO:0000673': ['modifiers'],\n",
      "            u'SO:0000704': ['modifiers'],\n",
      "            u'SO:0001026': ['modifiers'],\n",
      "            u'SO:0001565': ['high'],\n",
      "            u'SO:0001578': ['high'],\n",
      "            u'SO:0001587': ['high'],\n",
      "            u'SO:0002012': ['high'],\n",
      "            u'SO:1000082': ['modifiers']}}\n"
     ]
    }
   ],
   "source": [
    "so_labels_maps = {name: invert_so_map(so_map) for name, so_map in so_maps.items()}\n",
    "pprint.pprint(so_labels_maps)"
   ]
  },
  {
   "cell_type": "code",
   "execution_count": 14,
   "metadata": {
    "collapsed": false
   },
   "outputs": [
    {
     "data": {
      "text/html": [
       "<table>\n",
       "    <tr>\n",
       "        <th>g</th>\n",
       "        <th>t</th>\n",
       "        <th>p</th>\n",
       "        <th>so_ids</th>\n",
       "        <th>impacts</th>\n",
       "        <th>regions</th>\n",
       "    </tr>\n",
       "    <tr>\n",
       "        <td>1:g.69486C&gt;T</td>\n",
       "        <td>NM_001005484.1:c.396C&gt;T</td>\n",
       "        <td>NM_001005484.1:p.Asn132Asn</td>\n",
       "        <td>SO:0001819</td>\n",
       "        <td></td>\n",
       "        <td>cds</td>\n",
       "    </tr>\n",
       "    <tr>\n",
       "        <td>1:g.69534T&gt;C</td>\n",
       "        <td>NM_001005484.1:c.444T&gt;C</td>\n",
       "        <td>NM_001005484.1:p.His148His</td>\n",
       "        <td>SO:0001819</td>\n",
       "        <td></td>\n",
       "        <td>cds</td>\n",
       "    </tr>\n",
       "    <tr>\n",
       "        <td>1:g.69594T&gt;C</td>\n",
       "        <td>NM_001005484.1:c.504T&gt;C</td>\n",
       "        <td>NM_001005484.1:p.Asp168Asp</td>\n",
       "        <td>SO:0001819</td>\n",
       "        <td></td>\n",
       "        <td>cds</td>\n",
       "    </tr>\n",
       "    <tr>\n",
       "        <td>1:g.69768G&gt;A</td>\n",
       "        <td>NM_001005484.1:c.678G&gt;A</td>\n",
       "        <td>NM_001005484.1:p.Ser226Ser</td>\n",
       "        <td>SO:0001819</td>\n",
       "        <td></td>\n",
       "        <td>cds</td>\n",
       "    </tr>\n",
       "    <tr>\n",
       "        <td>1:g.69810T&gt;A</td>\n",
       "        <td>NM_001005484.1:c.720T&gt;A</td>\n",
       "        <td>NM_001005484.1:p.Val240Val</td>\n",
       "        <td>SO:0001819</td>\n",
       "        <td></td>\n",
       "        <td>cds</td>\n",
       "    </tr>\n",
       "    <tr>\n",
       "        <td>1:g.69869T&gt;A</td>\n",
       "        <td>NM_001005484.1:c.779T&gt;A</td>\n",
       "        <td>NM_001005484.1:p.Leu260*</td>\n",
       "        <td>SO:0001587</td>\n",
       "        <td>high</td>\n",
       "        <td>cds</td>\n",
       "    </tr>\n",
       "    <tr>\n",
       "        <td>1:g.69876A&gt;G</td>\n",
       "        <td>NM_001005484.1:c.786A&gt;G</td>\n",
       "        <td>NM_001005484.1:p.Lys262Lys</td>\n",
       "        <td>SO:0001819</td>\n",
       "        <td></td>\n",
       "        <td>cds</td>\n",
       "    </tr>\n",
       "    <tr>\n",
       "        <td>1:g.69897T&gt;C</td>\n",
       "        <td>NM_001005484.1:c.807T&gt;C</td>\n",
       "        <td>NM_001005484.1:p.Ser269Ser</td>\n",
       "        <td>SO:0001819</td>\n",
       "        <td></td>\n",
       "        <td>cds</td>\n",
       "    </tr>\n",
       "</table>"
      ],
      "text/plain": [
       "<IPython.core.display.HTML object>"
      ]
     },
     "metadata": {},
     "output_type": "display_data"
    }
   ],
   "source": [
    "variants = list(gc.searchVariantAnnotations(\n",
    "        variant_annotation_set.id,\n",
    "        effects = mk_effect_id_filter(\"SO:0001587 SO:0001819\".split()),\n",
    "        **region_constraints))\n",
    "\n",
    "field_names = \"g t p so_ids impacts regions\".split()\n",
    "pt = prettytable.PrettyTable(field_names=field_names)\n",
    "\n",
    "for v in variants:\n",
    "    vrec = build_variant_record(v)\n",
    "    pt.add_row([vrec[k] for k in field_names])\n",
    "    \n",
    "display(HTML(pt.get_html_string()))"
   ]
  },
  {
   "cell_type": "code",
   "execution_count": null,
   "metadata": {
    "collapsed": true
   },
   "outputs": [],
   "source": []
  }
 ],
 "metadata": {
  "kernelspec": {
   "display_name": "Python 2",
   "language": "python",
   "name": "python2"
  },
  "language_info": {
   "codemirror_mode": {
    "name": "ipython",
    "version": 2
   },
   "file_extension": ".py",
   "mimetype": "text/x-python",
   "name": "python",
   "nbconvert_exporter": "python",
   "pygments_lexer": "ipython2",
   "version": "2.7.9"
  }
 },
 "nbformat": 4,
 "nbformat_minor": 0
}
