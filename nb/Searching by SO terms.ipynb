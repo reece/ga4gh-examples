{
 "cells": [
  {
   "cell_type": "markdown",
   "metadata": {},
   "source": [
    "# Experiment with searching for SO ids (or terms)\n",
    "\n",
    "\n",
    "## Background\n",
    "\n",
    "A variant annotation record has a json structure like the following:\n",
    "\n",
    "    {u'createDateTime': u'2015-11-18T00:00:00Z',\n",
    "     u'id': u'YnJjYTE6T1I0Rjp2YXJpYW50YW5ub3RhdGlvbnM6MTo2NDExNTo4NzFkNGM4OWE1Mzc0NjQwNjA2NDM0OTkzYWVmNGFmZQ',\n",
    "     u'info': {},\n",
    "     u'transcriptEffects': [{u'CDSLocation': None,\n",
    "       u'alternateBases': u'A',\n",
    "       u'analysisResults': [],\n",
    "       u'cDNALocation': None,\n",
    "       u'effects': [{u'id': u'SO:0001631',\n",
    "         u'sourceName': None,\n",
    "         u'sourceVersion': None,\n",
    "         u'term': u'upstream_gene_variant'}],\n",
    "       u'featureId': u'NM_001005484.1',\n",
    "       u'hgvsAnnotation': {u'genomic': u'1:g.64116C>A',\n",
    "        u'protein': u'',\n",
    "        u'transcript': u'NM_001005484.1:c.-4975C>A'},\n",
    "       u'id': u'2053be57055a40663aa02b2cdc9c7351',\n",
    "       u'proteinLocation': None},\n",
    "      {u'CDSLocation': None,\n",
    "       u'alternateBases': u'A',\n",
    "       u'analysisResults': [],\n",
    "       u'cDNALocation': None,\n",
    "       u'effects': [{u'id': u'SO:0000605',\n",
    "         u'sourceName': None,\n",
    "         u'sourceVersion': None,\n",
    "         u'term': u'intergenic_region'}],\n",
    "       u'featureId': u'FAM138A-OR4F5',\n",
    "       u'hgvsAnnotation': {u'genomic': u'1:g.64116C>A',\n",
    "        u'protein': u'',\n",
    "        u'transcript': u'n.64116C>A'},\n",
    "       u'id': u'6e6a547b0bdb446a78a3819bfcd6e06c',\n",
    "       u'proteinLocation': None}],\n",
    "     u'variantAnnotationSetId': u'YnJjYTE6T1I0Rjp2YXJpYW50YW5ub3RhdGlvbnM',\n",
    "     u'variantId': u'YnJjYTE6T1I0RjoxOjY0MTE1OmU4Y2MyOTg2MGJmOTJjZGVmOTEwY2IyMzllYWVkZDI0'}\n",
    "\n",
    "That is: variant annotation —⪪ transcript effects —⪪ effects\n",
    "\n",
    "In the sample data, there are many variants with multiple transcript effects, but all transcriptEffects have exactly one effect (see below for data).\n",
    "\n",
    "## The Question\n",
    "\n",
    "searchVariantAnnotations accepts an *list* of json-formatted array of effect filters. It is unclear (to me) how this should behave when multiple filters are provided. Specifically, given a set F of SO ids provided as a filter filtering (e.g., {SO:1,SO:2}), and a set S of SO ids associated with all transcriptEffects of a variant annotation, does a variant annotation VA with S \"match\" F if:\n",
    "\n",
    "    * F ⋂ S ≠ {}  -- at least one f ∈ F is in S\n",
    "    * F ⊂ S       -- all f ∈ F are also in S\n",
    "    * S ⊂ F       -- all s ∈ S are also in F\n",
    "    * F = S       -- sets are identical (⇒ all of the above are true)\n",
    "\n",
    "It's hard to know what we want without use cases. However, it seems clear that users are likely to have one of two expectations:\n",
    "\n",
    "* SO filter terms are ANDed; that is, a VA matches if all f ∈ F are in S (i.e., F ⊆ S)\n",
    "* SO filter terms are ORed; that is, a VA matches if any f ∈ F is in S\n",
    "\n",
    "Let's test."
   ]
  },
  {
   "cell_type": "markdown",
   "metadata": {},
   "source": [
    "## Setup"
   ]
  },
  {
   "cell_type": "code",
   "execution_count": 1,
   "metadata": {
    "collapsed": false
   },
   "outputs": [
    {
     "name": "stdout",
     "output_type": "stream",
     "text": [
      "0.1.dev632+ncb43455c1003\n"
     ]
    }
   ],
   "source": [
    "import itertools\n",
    "import pandas as pd\n",
    "from pivottablejs import pivot_ui\n",
    "\n",
    "import ga4gh.client\n",
    "print(ga4gh.__version__)\n",
    "\n",
    "gc = ga4gh.client.HttpClient(\"http://localhost:8000\")"
   ]
  },
  {
   "cell_type": "code",
   "execution_count": 2,
   "metadata": {
    "collapsed": false
   },
   "outputs": [
    {
     "name": "stdout",
     "output_type": "stream",
     "text": [
      "Using first variant annotation set (of 1 total) for variant set YnJjYTE6T1I0Rg\n",
      "vas_id=YnJjYTE6T1I0Rjp2YXJpYW50YW5ub3RhdGlvbnM\n"
     ]
    }
   ],
   "source": [
    "region_constraints = dict(referenceName=\"1\", start=0, end=int(1e10))\n",
    "variant_set_id = 'YnJjYTE6T1I0Rg'\n",
    "variant_annotation_sets = list(gc.searchVariantAnnotationSets(variant_set_id))\n",
    "variant_annotation_set = variant_annotation_sets[0]\n",
    "print(\"Using first variant annotation set (of {n} total) for variant set {vs_id}\\nvas_id={vas.id}\".format(\n",
    "    n=len(variant_annotation_sets), vs_id=variant_set_id, vas=variant_annotation_set))"
   ]
  },
  {
   "cell_type": "markdown",
   "metadata": {},
   "source": [
    "## Characterizing sample data"
   ]
  },
  {
   "cell_type": "code",
   "execution_count": 20,
   "metadata": {
    "collapsed": true
   },
   "outputs": [],
   "source": [
    "variant_annotations = [{\n",
    "        'va':va,\n",
    "        'n_te': len(list(va.transcriptEffects)),\n",
    "        'n_ef': len(list(ef for te in va.transcriptEffects for ef in te.effects)),\n",
    "        'sos': \";\".join(sorted(set(\"{ef.id}:{ef.term}\".format(ef=ef)\n",
    "                                   for te in va.transcriptEffects\n",
    "                                   for ef in te.effects)))\n",
    "    }\n",
    "    for va in gc.searchVariantAnnotations(variant_annotation_set.id, **region_constraints)\n",
    "    ]\n",
    "variant_annotations_df = pd.DataFrame(variant_annotations)"
   ]
  },
  {
   "cell_type": "markdown",
   "metadata": {},
   "source": [
    "** The following is an inline graphic image. See instructions below it for reproducing it. **\n",
    "\n",
    "![sos](images/sos_pivot.png)\n",
    "\n",
    "\n",
    "To regenerate this data: \n",
    "\n",
    "1. Eval the next cell\n",
    "1. Select Bar Chart from Table menu\n",
    "1. Drag-drop \"sos\" to left column under Count pulldown\n",
    "1. Drag-drop n_te, then n_ef to row to right of Count pulldown"
   ]
  },
  {
   "cell_type": "code",
   "execution_count": 21,
   "metadata": {
    "collapsed": false,
    "scrolled": false
   },
   "outputs": [
    {
     "data": {
      "text/html": [
       "\n",
       "        <iframe\n",
       "            width=\"100%\"\n",
       "            height=\"500\"\n",
       "            src=\"pivottablejs.html\"\n",
       "            frameborder=\"0\"\n",
       "            allowfullscreen\n",
       "        ></iframe>\n",
       "        "
      ],
      "text/plain": [
       "<IPython.lib.display.IFrame at 0x7f8f384beed0>"
      ]
     },
     "execution_count": 21,
     "metadata": {},
     "output_type": "execute_result"
    }
   ],
   "source": [
    "pivot_ui(variant_annotations_df)"
   ]
  },
  {
   "cell_type": "markdown",
   "metadata": {},
   "source": [
    "## The searches\n",
    "\n",
    "Using the data above, we can search for single and multiple terms and compare to expectations.\n",
    "\n",
    "We'll be using this function:\n",
    "\n",
    "    Signature: gc.searchVariantAnnotations(variantAnnotationSetId, referenceName=None, referenceId=None, \n",
    "                                           start=None, end=None, featureIds=[], effects=[])\n",
    "    Docstring:\n",
    "    Returns an iterator over the Annotations fulfilling the specified conditions from the specified\n",
    "    AnnotationSet.\n",
    "\n",
    "    The JSON string for an effect term must be specified on the command line : \n",
    "    `--effects '{\"term\": \"exon_variant\"}'`."
   ]
  },
  {
   "cell_type": "code",
   "execution_count": 14,
   "metadata": {
    "collapsed": false
   },
   "outputs": [],
   "source": [
    "def _mk_effect_filter(so_ids=[]):\n",
    "    \"\"\"return list of so_id effect filters for the given list of so_ids\n",
    "\n",
    "    >>> print(_mk_effect_filter(so_ids=\"SO:1 SO:2 SO:3\".split()))\n",
    "    ['{\"id\":\"SO:1\"}', '{\"id\":\"SO:2\"}', '{\"id\":\"SO:3\"}']\n",
    "    \"\"\"\n",
    "    return [{\"id\": so_id} for so_id in so_ids]\n",
    "\n",
    "def _fetch_variant_annotations(gc, so_ids=[], **args):\n",
    "    return gc.searchVariantAnnotations(variant_annotation_set.id,\n",
    "                                       effects=_mk_effect_filter(so_ids),\n",
    "                                       **args)"
   ]
  },
  {
   "cell_type": "code",
   "execution_count": 19,
   "metadata": {
    "collapsed": false
   },
   "outputs": [
    {
     "data": {
      "text/plain": [
       "[('SO:0001819', 7),\n",
       " ('SO:0001632', 56),\n",
       " ('SO:0000605', 816),\n",
       " ('SO:0000605 SO:0001632', 816),\n",
       " ('SO:0001632 SO:0000605', 816),\n",
       " ('SO:9999999', 0),\n",
       " ('SO:0000605 SO:999999', 816)]"
      ]
     },
     "execution_count": 19,
     "metadata": {},
     "output_type": "execute_result"
    }
   ],
   "source": [
    "# expected:\n",
    "#so_terms\n",
    "#SO:0000605:intergenic_region                                       697\n",
    "#SO:0000605:intergenic_region;SO:0001631:upstream_gene_variant       63\n",
    "#SO:0000605:intergenic_region;SO:0001632:downstream_gene_variant     56\n",
    "#SO:0001583:missense_variant                                         16\n",
    "#SO:0001587:stop_gained                                               1\n",
    "#SO:0001819:synonymous_variant                                        7\n",
    "        \n",
    "[(so_set,\n",
    "  len(list(_fetch_variant_annotations(gc, so_ids=so_set.split(), **region_constraints))))\n",
    " for so_set in [\"SO:0001819\", \"SO:0001632\", \"SO:0000605\", \n",
    "                \"SO:0000605 SO:0001632\", \"SO:0001632 SO:0000605\",\n",
    "                \"SO:9999999\", \"SO:0000605 SO:999999\"]\n",
    " ]"
   ]
  },
  {
   "cell_type": "markdown",
   "metadata": {},
   "source": [
    "### Conclusion\n",
    "\n",
    "Searching uses disjunctive OR. That is, searching with a filter containing multiple terms returns the union of annotations that match at least one term. That's good because it means that conjuction (AND) may be applied on the return set."
   ]
  },
  {
   "cell_type": "code",
   "execution_count": null,
   "metadata": {
    "collapsed": true
   },
   "outputs": [],
   "source": []
  }
 ],
 "metadata": {
  "kernelspec": {
   "display_name": "Python 2",
   "language": "python",
   "name": "python2"
  },
  "language_info": {
   "codemirror_mode": {
    "name": "ipython",
    "version": 2
   },
   "file_extension": ".py",
   "mimetype": "text/x-python",
   "name": "python",
   "nbconvert_exporter": "python",
   "pygments_lexer": "ipython2",
   "version": "2.7.9"
  }
 },
 "nbformat": 4,
 "nbformat_minor": 0
}
